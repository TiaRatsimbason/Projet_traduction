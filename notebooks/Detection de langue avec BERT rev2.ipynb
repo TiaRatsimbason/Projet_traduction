{
 "cells": [
  {
   "cell_type": "code",
   "execution_count": 1,
   "id": "ab58af82-6972-4442-a422-408ca89b1995",
   "metadata": {
    "tags": []
   },
   "outputs": [
    {
     "name": "stdout",
     "output_type": "stream",
     "text": [
      "Nombre de lignes de small_vocab: 137860\n"
     ]
    }
   ],
   "source": [
    "import pandas as pd\n",
    "import random\n",
    "\n",
    "# Ouvrir le fichier d'entrée en mode lecture\n",
    "def create_lang_df(path, langue):\n",
    "    with open(path, 'r', encoding='utf-8') as fichier_entree:\n",
    "        lignes = fichier_entree.readlines()\n",
    "    lignes_propres = [ligne.strip() for ligne in lignes]\n",
    "\n",
    "    df=pd.DataFrame(data=lignes_propres, columns=['phrase'])\n",
    "    df['langue'] = langue\n",
    "    return df\n",
    "\n",
    "\n",
    "df_fr = create_lang_df('../data/small_vocab_fr','fr')\n",
    "df_fr = df_fr.sample(frac=1, random_state=42)\n",
    "df_en = create_lang_df('../data/small_vocab_en','en')\n",
    "df_en = df_en.sample(frac=1, random_state=24)\n",
    "n_rows = len(df_fr)\n",
    "print('Nombre de lignes de small_vocab:',n_rows)\n"
   ]
  },
  {
   "cell_type": "code",
   "execution_count": 2,
   "id": "ce67bcda-982d-49cf-a90c-8b0e9cce68d1",
   "metadata": {
    "tags": []
   },
   "outputs": [
    {
     "data": {
      "text/plain": [
       "581"
      ]
     },
     "execution_count": 2,
     "metadata": {},
     "output_type": "execute_result"
    }
   ],
   "source": [
    "# Créez un vocabulaire complet à partir des données anglaises et française\n",
    "from transformers import BertTokenizerFast\n",
    "from collections import Counter\n",
    "\n",
    "df = pd.concat([df_fr['phrase'],df_en['phrase']])\n",
    "tokenizer = BertTokenizerFast.from_pretrained('bert-base-multilingual-cased')  \n",
    "vocab = Counter(token for doc in df for token in tokenizer.tokenize(doc))\n",
    "len(vocab)"
   ]
  },
  {
   "cell_type": "code",
   "execution_count": 3,
   "id": "6dbac26f-2f26-4e3e-9685-1aa5914569b2",
   "metadata": {
    "tags": []
   },
   "outputs": [
    {
     "data": {
      "text/html": [
       "<div>\n",
       "<style scoped>\n",
       "    .dataframe tbody tr th:only-of-type {\n",
       "        vertical-align: middle;\n",
       "    }\n",
       "\n",
       "    .dataframe tbody tr th {\n",
       "        vertical-align: top;\n",
       "    }\n",
       "\n",
       "    .dataframe thead th {\n",
       "        text-align: right;\n",
       "    }\n",
       "</style>\n",
       "<table border=\"1\" class=\"dataframe\">\n",
       "  <thead>\n",
       "    <tr style=\"text-align: right;\">\n",
       "      <th></th>\n",
       "      <th>phrase</th>\n",
       "      <th>langue</th>\n",
       "    </tr>\n",
       "  </thead>\n",
       "  <tbody>\n",
       "    <tr>\n",
       "      <th>0</th>\n",
       "      <td>france is dry during march , and it is never wonderful in winter .</td>\n",
       "      <td>en</td>\n",
       "    </tr>\n",
       "    <tr>\n",
       "      <th>1</th>\n",
       "      <td>their least favorite fruit is the grape , but his least favorite is the mango .</td>\n",
       "      <td>en</td>\n",
       "    </tr>\n",
       "    <tr>\n",
       "      <th>2</th>\n",
       "      <td>elle déteste les poires , les fraises et les citrons .</td>\n",
       "      <td>fr</td>\n",
       "    </tr>\n",
       "    <tr>\n",
       "      <th>3</th>\n",
       "      <td>she drove that little blue automobile .</td>\n",
       "      <td>en</td>\n",
       "    </tr>\n",
       "    <tr>\n",
       "      <th>4</th>\n",
       "      <td>ils n'aiment les citrons , les pommes et le pamplemousse .</td>\n",
       "      <td>fr</td>\n",
       "    </tr>\n",
       "    <tr>\n",
       "      <th>...</th>\n",
       "      <td>...</td>\n",
       "      <td>...</td>\n",
       "    </tr>\n",
       "    <tr>\n",
       "      <th>192999</th>\n",
       "      <td>he dislikes grapes , lemons , and bananas.</td>\n",
       "      <td>en</td>\n",
       "    </tr>\n",
       "    <tr>\n",
       "      <th>193000</th>\n",
       "      <td>china is sometimes rainy during summer , but it is usually dry in autumn .</td>\n",
       "      <td>en</td>\n",
       "    </tr>\n",
       "    <tr>\n",
       "      <th>193001</th>\n",
       "      <td>india is never pleasant during april , and it is usually beautiful in winter .</td>\n",
       "      <td>en</td>\n",
       "    </tr>\n",
       "    <tr>\n",
       "      <th>193002</th>\n",
       "      <td>new jersey is usually quiet during fall , but it is usually warm in june .</td>\n",
       "      <td>en</td>\n",
       "    </tr>\n",
       "    <tr>\n",
       "      <th>193003</th>\n",
       "      <td>he dislikes peaches , grapefruit , and bananas .</td>\n",
       "      <td>en</td>\n",
       "    </tr>\n",
       "  </tbody>\n",
       "</table>\n",
       "<p>193004 rows × 2 columns</p>\n",
       "</div>"
      ],
      "text/plain": [
       "                                                                                 phrase  \\\n",
       "0                    france is dry during march , and it is never wonderful in winter .   \n",
       "1       their least favorite fruit is the grape , but his least favorite is the mango .   \n",
       "2                                elle déteste les poires , les fraises et les citrons .   \n",
       "3                                               she drove that little blue automobile .   \n",
       "4                            ils n'aiment les citrons , les pommes et le pamplemousse .   \n",
       "...                                                                                 ...   \n",
       "192999                                       he dislikes grapes , lemons , and bananas.   \n",
       "193000       china is sometimes rainy during summer , but it is usually dry in autumn .   \n",
       "193001   india is never pleasant during april , and it is usually beautiful in winter .   \n",
       "193002       new jersey is usually quiet during fall , but it is usually warm in june .   \n",
       "193003                                 he dislikes peaches , grapefruit , and bananas .   \n",
       "\n",
       "       langue  \n",
       "0          en  \n",
       "1          en  \n",
       "2          fr  \n",
       "3          en  \n",
       "4          fr  \n",
       "...       ...  \n",
       "192999     en  \n",
       "193000     en  \n",
       "193001     en  \n",
       "193002     en  \n",
       "193003     en  \n",
       "\n",
       "[193004 rows x 2 columns]"
      ]
     },
     "metadata": {},
     "output_type": "display_data"
    }
   ],
   "source": [
    "# créer 2 dataframes: 1 train (70% des phrases) et 1 test (30% des phrases) avec, dans chaque dataframe, \n",
    "# 50% des phrases en anglais et 50% en français\n",
    "\n",
    "n_train = int(n_rows*0.7)\n",
    "df_train = pd.concat([df_fr.iloc[:n_train],df_en.iloc[:n_train]]).sample(frac=1, random_state=42).reset_index(drop=True)\n",
    "df_test = pd.concat([df_fr.iloc[n_train:],df_en.iloc[n_train:]]).sample(frac=1, random_state=24).reset_index(drop=True)\n",
    "pd.set_option('display.max_colwidth', 150)\n",
    "display(df_train)"
   ]
  },
  {
   "cell_type": "code",
   "execution_count": 4,
   "id": "582329fa-fe9a-4e42-bc24-5349be9f0445",
   "metadata": {
    "tags": []
   },
   "outputs": [],
   "source": [
    "import numpy as np\n",
    "\n",
    "# Créez un DataFrame BOW avec les phrases (lignes) et les fréquences de chaque token (colonnes)\n",
    "def create_BOW(data):\n",
    "    BOW = []\n",
    "    for ligne in data:\n",
    "        l_tokenised = tokenizer.tokenize(ligne)\n",
    "        BOW.append([l_tokenised.count(token) for token in vocab])\n",
    "    return BOW\n",
    "\n",
    "X_train = create_BOW(df_train['phrase'])\n",
    "y_train = df_train['langue'].values.tolist() \n",
    "\n",
    "#\n",
    "X_test = create_BOW(df_test['phrase'])\n",
    "y_test = df_test['langue'].values.tolist()\n"
   ]
  },
  {
   "cell_type": "code",
   "execution_count": 5,
   "id": "ff1fdbf1-09de-4f43-a555-677a39244193",
   "metadata": {
    "tags": []
   },
   "outputs": [
    {
     "data": {
      "text/html": [
       "<div>\n",
       "<style scoped>\n",
       "    .dataframe tbody tr th:only-of-type {\n",
       "        vertical-align: middle;\n",
       "    }\n",
       "\n",
       "    .dataframe tbody tr th {\n",
       "        vertical-align: top;\n",
       "    }\n",
       "\n",
       "    .dataframe thead th {\n",
       "        text-align: right;\n",
       "    }\n",
       "</style>\n",
       "<table border=\"1\" class=\"dataframe\">\n",
       "  <thead>\n",
       "    <tr style=\"text-align: right;\">\n",
       "      <th>Classe prédite</th>\n",
       "      <th>en</th>\n",
       "      <th>fr</th>\n",
       "    </tr>\n",
       "    <tr>\n",
       "      <th>Classe réelle</th>\n",
       "      <th></th>\n",
       "      <th></th>\n",
       "    </tr>\n",
       "  </thead>\n",
       "  <tbody>\n",
       "    <tr>\n",
       "      <th>en</th>\n",
       "      <td>41358</td>\n",
       "      <td>0</td>\n",
       "    </tr>\n",
       "    <tr>\n",
       "      <th>fr</th>\n",
       "      <td>0</td>\n",
       "      <td>41358</td>\n",
       "    </tr>\n",
       "  </tbody>\n",
       "</table>\n",
       "</div>"
      ],
      "text/plain": [
       "Classe prédite     en     fr\n",
       "Classe réelle               \n",
       "en              41358      0\n",
       "fr                  0  41358"
      ]
     },
     "execution_count": 5,
     "metadata": {},
     "output_type": "execute_result"
    }
   ],
   "source": [
    "from sklearn import svm\n",
    "from sklearn import naive_bayes\n",
    "\n",
    "# On entraine et on prédit\n",
    "clf_nb = naive_bayes.BernoulliNB()\n",
    "clf_nb.fit(X_train, y_train)\n",
    "y_pred_nb = clf_nb.predict(X_test)\n",
    "pd.crosstab(y_test,y_pred_nb,rownames=['Classe réelle'], colnames=['Classe prédite'])"
   ]
  },
  {
   "cell_type": "code",
   "execution_count": 6,
   "id": "f27ab9a8-8635-47be-8a21-63dd99ee56b7",
   "metadata": {},
   "outputs": [
    {
     "data": {
      "text/html": [
       "<div>\n",
       "<style scoped>\n",
       "    .dataframe tbody tr th:only-of-type {\n",
       "        vertical-align: middle;\n",
       "    }\n",
       "\n",
       "    .dataframe tbody tr th {\n",
       "        vertical-align: top;\n",
       "    }\n",
       "\n",
       "    .dataframe thead th {\n",
       "        text-align: right;\n",
       "    }\n",
       "</style>\n",
       "<table border=\"1\" class=\"dataframe\">\n",
       "  <thead>\n",
       "    <tr style=\"text-align: right;\">\n",
       "      <th>Classe prédite</th>\n",
       "      <th>en</th>\n",
       "      <th>fr</th>\n",
       "    </tr>\n",
       "    <tr>\n",
       "      <th>Classe réelle</th>\n",
       "      <th></th>\n",
       "      <th></th>\n",
       "    </tr>\n",
       "  </thead>\n",
       "  <tbody>\n",
       "    <tr>\n",
       "      <th>en</th>\n",
       "      <td>41358</td>\n",
       "      <td>0</td>\n",
       "    </tr>\n",
       "    <tr>\n",
       "      <th>fr</th>\n",
       "      <td>0</td>\n",
       "      <td>41358</td>\n",
       "    </tr>\n",
       "  </tbody>\n",
       "</table>\n",
       "</div>"
      ],
      "text/plain": [
       "Classe prédite     en     fr\n",
       "Classe réelle               \n",
       "en              41358      0\n",
       "fr                  0  41358"
      ]
     },
     "execution_count": 6,
     "metadata": {},
     "output_type": "execute_result"
    }
   ],
   "source": [
    "from sklearn.ensemble import GradientBoostingClassifier\n",
    "# Créer un classificateur clf et entraîner le modèle sur l'ensemble d'entraînement\n",
    "clf_gb = GradientBoostingClassifier(n_estimators=100, learning_rate=1.0, max_depth=1, random_state=0).fit(X_train, y_train)\n",
    "\n",
    "# Calculer les prédictions \n",
    "y_pred_gb = clf_gb.predict(X_test)\n",
    "pd.crosstab(y_test,y_pred_gb,rownames=['Classe réelle'], colnames=['Classe prédite'])"
   ]
  },
  {
   "cell_type": "code",
   "execution_count": 7,
   "id": "272d7135-8ec5-4294-bfe4-4536184e8518",
   "metadata": {
    "tags": []
   },
   "outputs": [
    {
     "name": "stdout",
     "output_type": "stream",
     "text": [
      "Prédictions Naive Bayes : ['en' 'fr' 'en' 'fr']\n",
      "Prédictions Gradiant Boosting : ['en' 'fr' 'en' 'fr']\n"
     ]
    }
   ],
   "source": [
    "\n",
    "# Instanciation d'un exemple\n",
    "exemple = [\"france is often snowy during spring , and it is relaxing in january .\",\n",
    "           \"elle adore les voitures très luxueuses, et toi ?\",\n",
    "           \"she loves very luxurious cars, don't you?\",\n",
    "           \"I love you, ma chérie en janvier avec des citrons under the rain\"]\n",
    "\n",
    "\n",
    "# Prédiction des classes de l'exemple par le classifieur Naive Bayes\n",
    "predictions_nb = clf_nb.predict(create_BOW(exemple))\n",
    "\n",
    "# Prédiction des classes de l'exemple par le classifieur Gradiant Boosting\n",
    "predictions_gb = clf_gb.predict(create_BOW(exemple))\n",
    "\n",
    "# Affichage des prédictions\n",
    "print('Prédictions Naive Bayes :',predictions_nb)\n",
    "print('Prédictions Gradiant Boosting :',predictions_gb)"
   ]
  }
 ],
 "metadata": {
  "kernelspec": {
   "display_name": "Python 3 (ipykernel)",
   "language": "python",
   "name": "python3"
  },
  "language_info": {
   "codemirror_mode": {
    "name": "ipython",
    "version": 3
   },
   "file_extension": ".py",
   "mimetype": "text/x-python",
   "name": "python",
   "nbconvert_exporter": "python",
   "pygments_lexer": "ipython3",
   "version": "3.9.16"
  }
 },
 "nbformat": 4,
 "nbformat_minor": 5
}
