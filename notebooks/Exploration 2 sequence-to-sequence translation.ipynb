{
 "cells": [
  {
   "cell_type": "markdown",
   "metadata": {
    "colab_type": "text"
   },
   "source": [
    "## **Sequence-to-sequence learning : FR to EN translation** - revision 02"
   ]
  },
  {
   "cell_type": "markdown",
   "metadata": {
    "colab_type": "text"
   },
   "source": [
    "### **1. Small_vocab translation**"
   ]
  },
  {
   "cell_type": "code",
   "execution_count": 1,
   "metadata": {
    "tags": []
   },
   "outputs": [],
   "source": [
    "import os\n",
    "import time\n",
    "\n",
    "def load_data(path):\n",
    "\n",
    "    # Nombre maximum de lignes à renvoyer\n",
    "    max_lines = 140000\n",
    "    \n",
    "    input_file = os.path.join(path)\n",
    "    with open(input_file, \"r\",  encoding=\"utf-8\") as f:\n",
    "        data = f.read()\n",
    "        \n",
    "    # On convertit les majuscules en minulcule\n",
    "    data = data.lower()\n",
    "    \n",
    "    data = data.split('\\n')\n",
    "    return data[:min(len(data),max_lines)]\n",
    "\n",
    "# Indication de calculer le score Bleu\n",
    "bleu_score_to_do = True\n",
    "\n",
    "# Chargement des textes dans les 2 langues (max lignes = max_lines)\n",
    "src = 'fr'\n",
    "tgt = 'en'\n",
    "txt_tgt = load_data('../data/small_vocab_'+tgt)\n",
    "txt_src = load_data('../data/small_vocab_'+src)\n",
    "\n",
    "text_pairs = []\n",
    "text_tgt_to_vec = []\n",
    "text_pairs_to_vec = []\n",
    "for line in range(len(txt_src)):\n",
    "    text_pairs.append((txt_src[line], \"[start] \" + txt_tgt[line] + \" [end]\" ))\n",
    "    text_tgt_to_vec.append(txt_tgt[line])\n",
    "    "
   ]
  },
  {
   "cell_type": "code",
   "execution_count": 2,
   "metadata": {
    "colab_type": "code",
    "tags": []
   },
   "outputs": [
    {
     "name": "stdout",
     "output_type": "stream",
     "text": [
      "('californie est généralement occupé en décembre , mais il est sec en mars .', '[start] california is usually busy during december , but it is dry in march . [end]')\n"
     ]
    }
   ],
   "source": [
    "import random\n",
    "random.Random(4).shuffle(text_pairs)\n",
    "random.Random(4).shuffle(text_tgt_to_vec)\n",
    "print(text_pairs[0])\n",
    "num_val_samples = int(0.15 * len(text_pairs))\n",
    "num_train_samples = len(text_pairs) - 2 * num_val_samples\n",
    "train_pairs = text_pairs[:num_train_samples]\n",
    "train_tgt_to_vec = text_tgt_to_vec[:num_train_samples]\n",
    "val_pairs = text_pairs[num_train_samples:num_train_samples + num_val_samples]\n",
    "test_pairs = text_pairs[num_train_samples + num_val_samples:]"
   ]
  },
  {
   "cell_type": "markdown",
   "metadata": {
    "colab_type": "text"
   },
   "source": [
    "**Vectorizing the English and French text pairs**"
   ]
  },
  {
   "cell_type": "code",
   "execution_count": 3,
   "metadata": {
    "colab_type": "code",
    "tags": []
   },
   "outputs": [],
   "source": [
    "import tensorflow as tf\n",
    "import string\n",
    "import re\n",
    "from tensorflow import keras\n",
    "from tensorflow.keras import layers\n",
    "\n",
    "strip_chars = string.punctuation + \"¿\"\n",
    "strip_chars = strip_chars.replace(\"[\", \"\")\n",
    "strip_chars = strip_chars.replace(\"]\", \"\")\n",
    "\n",
    "def custom_standardization(input_string):\n",
    "    lowercase = tf.strings.lower(input_string)\n",
    "    lowercase=tf.strings.regex_replace(lowercase, \"[à]\", \"a\")\n",
    "    return tf.strings.regex_replace(\n",
    "        lowercase, f\"[{re.escape(strip_chars)}]\", \"\")\n",
    "\n",
    "def save_vocab(file_path, vocab):\n",
    "    with open(file_path, \"w\",  encoding=\"utf-8\" ) as file:\n",
    "        for word in vocab:\n",
    "            file.write(word+'\\n')\n",
    "    return\n",
    "\n",
    "def load_vocab(file_path):\n",
    "    with open(file_path, \"r\",  encoding=\"utf-8\") as file:\n",
    "        return file.read().split('\\n')[:-1]\n",
    "\n",
    "\n",
    "vocab_size = 15000\n",
    "sequence_length = 30\n",
    "\n",
    "source_vectorization = layers.TextVectorization(\n",
    "    max_tokens=vocab_size,\n",
    "    output_mode=\"int\",\n",
    "    output_sequence_length=sequence_length,\n",
    "    # Si les fichier vocab existe déjà, enlever la ligne de commentaire ci-dessous\n",
    "    vocabulary = load_vocab(\"../data/vocab_\"+src+\".txt\"),\n",
    "    standardize=custom_standardization,\n",
    ")\n",
    "target_vectorization = layers.TextVectorization(\n",
    "    max_tokens=vocab_size,\n",
    "    output_mode=\"int\",\n",
    "    output_sequence_length=sequence_length + 1,\n",
    "    # Si les fichier vocab existe déjà, enlever la ligne de commentaire ci-dessous\n",
    "    vocabulary = load_vocab(\"../data/vocab_\"+tgt+\".txt\"),\n",
    "    standardize=custom_standardization,\n",
    ")\n",
    "train_src_texts = [pair[0] for pair in train_pairs]\n",
    "train_tgt_texts = [pair[1] for pair in train_pairs]"
   ]
  },
  {
   "cell_type": "code",
   "execution_count": 4,
   "metadata": {
    "colab_type": "code",
    "tags": []
   },
   "outputs": [],
   "source": [
    "# Si les fichier vocab existe déjà, il faut executer le code ci-dessous.\n",
    "# Sinon il ne faut pas l'executer \n",
    "\n",
    "#buff = train_src_texts[0]\n",
    "#train_tgt_to_vec[0] = \"[start] [end] \"+train_tgt_to_vec[0]\n",
    "#train_src_texts[0] = \"[start] [end] \"+ train_src_texts[0]\n",
    "#source_vectorization.adapt(train_src_texts)\n",
    "#target_vectorization.adapt(train_tgt_to_vec)\n",
    "#train_src_texts[0] = buff\n",
    "#save_vocab(\"../data/vocab_\"+tgt+\".txt\" , target_vectorization.get_vocabulary()[2:])\n",
    "#save_vocab(\"../data/vocab_\"+src+\".txt\" , source_vectorization.get_vocabulary()[2:])"
   ]
  },
  {
   "cell_type": "markdown",
   "metadata": {
    "colab_type": "text"
   },
   "source": [
    "**Preparing datasets for the translation task**"
   ]
  },
  {
   "cell_type": "code",
   "execution_count": 5,
   "metadata": {
    "colab_type": "code",
    "tags": []
   },
   "outputs": [],
   "source": [
    "batch_size = 64\n",
    "\n",
    "def format_dataset(source, target):\n",
    "    source = source_vectorization(source)\n",
    "    target = target_vectorization(target)\n",
    "    return ({\n",
    "        src: source,\n",
    "        tgt: target[:, :-1],\n",
    "    }, target[:, 1:])\n",
    "\n",
    "def make_dataset(pairs):\n",
    "    src_texts, tgt_texts = zip(*pairs)\n",
    "    tgt_texts = list(tgt_texts)\n",
    "    src_texts = list(src_texts)\n",
    "    dataset = tf.data.Dataset.from_tensor_slices((src_texts, tgt_texts))\n",
    "    dataset = dataset.batch(batch_size)\n",
    "    dataset = dataset.map(format_dataset, num_parallel_calls=4)\n",
    "    return dataset.shuffle(2048).prefetch(16).cache()\n",
    "\n",
    "train_ds = make_dataset(train_pairs)\n",
    "val_ds = make_dataset(val_pairs)"
   ]
  },
  {
   "cell_type": "code",
   "execution_count": 6,
   "metadata": {
    "colab_type": "code",
    "tags": []
   },
   "outputs": [
    {
     "name": "stdout",
     "output_type": "stream",
     "text": [
      "inputs[tgt].shape: (64, 30)\n",
      "inputs[src].shape: (64, 30)\n",
      "targets.shape: (64, 30)\n"
     ]
    }
   ],
   "source": [
    "for inputs, targets in train_ds.take(1):\n",
    "    print(f\"inputs[tgt].shape: {inputs[tgt].shape}\")\n",
    "    print(f\"inputs[src].shape: {inputs[src].shape}\")\n",
    "    print(f\"targets.shape: {targets.shape}\")"
   ]
  },
  {
   "cell_type": "markdown",
   "metadata": {
    "colab_type": "text"
   },
   "source": [
    "### **2. Sequence-to-sequence learning with RNNs**"
   ]
  },
  {
   "cell_type": "markdown",
   "metadata": {
    "colab_type": "text"
   },
   "source": [
    "**GRU-based encoder**"
   ]
  },
  {
   "cell_type": "code",
   "execution_count": 7,
   "metadata": {
    "colab_type": "code",
    "tags": []
   },
   "outputs": [],
   "source": [
    "from tensorflow import keras\n",
    "from tensorflow.keras import layers\n",
    "\n",
    "embed_dim = 256\n",
    "latent_dim = 1024\n",
    "\n",
    "source = keras.Input(shape=(None,), dtype=\"int64\", name=src)\n",
    "x = layers.Embedding(vocab_size, embed_dim, mask_zero=True)(source)\n",
    "encoded_source = layers.Bidirectional(\n",
    "    layers.GRU(latent_dim), merge_mode=\"sum\")(x)"
   ]
  },
  {
   "cell_type": "markdown",
   "metadata": {
    "colab_type": "text"
   },
   "source": [
    "**GRU-based decoder and the end-to-end model**"
   ]
  },
  {
   "cell_type": "code",
   "execution_count": 8,
   "metadata": {
    "colab_type": "code",
    "tags": []
   },
   "outputs": [],
   "source": [
    "past_target = keras.Input(shape=(None,), dtype=\"int64\", name=tgt)\n",
    "x = layers.Embedding(vocab_size, embed_dim, mask_zero=True)(past_target)\n",
    "decoder_gru = layers.GRU(latent_dim, return_sequences=True)\n",
    "x = decoder_gru(x, initial_state=encoded_source)\n",
    "x = layers.Dropout(0.5)(x)\n",
    "target_next_step = layers.Dense(vocab_size, activation=\"softmax\")(x)\n",
    "seq2seq_rnn = keras.Model([source, past_target], target_next_step)"
   ]
  },
  {
   "cell_type": "markdown",
   "metadata": {
    "colab_type": "text"
   },
   "source": [
    "**Training our recurrent sequence-to-sequence model**"
   ]
  },
  {
   "cell_type": "code",
   "execution_count": 9,
   "metadata": {
    "colab_type": "code",
    "tags": []
   },
   "outputs": [
    {
     "name": "stdout",
     "output_type": "stream",
     "text": [
      "Epoch 1/15\n",
      "1508/1508 [==============================] - 129s 76ms/step - loss: 0.2397 - accuracy: 0.8338 - val_loss: 0.0227 - val_accuracy: 0.9747\n",
      "Epoch 2/15\n",
      "1508/1508 [==============================] - 111s 74ms/step - loss: 0.0222 - accuracy: 0.9761 - val_loss: 0.0171 - val_accuracy: 0.9787\n",
      "Epoch 3/15\n",
      "1508/1508 [==============================] - 111s 74ms/step - loss: 0.0183 - accuracy: 0.9786 - val_loss: 0.0155 - val_accuracy: 0.9796\n",
      "Epoch 4/15\n",
      "1508/1508 [==============================] - 111s 73ms/step - loss: 0.0169 - accuracy: 0.9797 - val_loss: 0.0151 - val_accuracy: 0.9803\n",
      "Epoch 5/15\n",
      "1508/1508 [==============================] - 111s 74ms/step - loss: 0.0161 - accuracy: 0.9803 - val_loss: 0.0146 - val_accuracy: 0.9808\n",
      "Epoch 6/15\n",
      "1508/1508 [==============================] - 2809s 2s/step - loss: 0.0156 - accuracy: 0.9808 - val_loss: 0.0150 - val_accuracy: 0.9807\n",
      "Epoch 7/15\n",
      "1508/1508 [==============================] - 107s 71ms/step - loss: 0.0153 - accuracy: 0.9809 - val_loss: 0.0145 - val_accuracy: 0.9811\n",
      "Epoch 8/15\n",
      "1508/1508 [==============================] - 109s 72ms/step - loss: 0.0149 - accuracy: 0.9814 - val_loss: 0.0142 - val_accuracy: 0.9812\n",
      "Epoch 9/15\n",
      "1508/1508 [==============================] - 108s 72ms/step - loss: 0.0147 - accuracy: 0.9816 - val_loss: 0.0141 - val_accuracy: 0.9810\n",
      "Epoch 10/15\n",
      "1508/1508 [==============================] - 109s 72ms/step - loss: 0.0145 - accuracy: 0.9817 - val_loss: 0.0141 - val_accuracy: 0.9811\n",
      "Epoch 11/15\n",
      "1508/1508 [==============================] - 109s 72ms/step - loss: 0.0144 - accuracy: 0.9819 - val_loss: 0.0140 - val_accuracy: 0.9810\n",
      "Epoch 12/15\n",
      "1508/1508 [==============================] - 468s 310ms/step - loss: 0.0142 - accuracy: 0.9820 - val_loss: 0.0141 - val_accuracy: 0.9813\n",
      "Epoch 13/15\n",
      "1508/1508 [==============================] - 108s 72ms/step - loss: 0.0142 - accuracy: 0.9821 - val_loss: 0.0141 - val_accuracy: 0.9813\n",
      "Epoch 14/15\n",
      "1508/1508 [==============================] - 109s 72ms/step - loss: 0.0141 - accuracy: 0.9822 - val_loss: 0.0142 - val_accuracy: 0.9809\n"
     ]
    },
    {
     "data": {
      "text/plain": [
       "<keras.callbacks.History at 0x1e3c337d2b0>"
      ]
     },
     "execution_count": 9,
     "metadata": {},
     "output_type": "execute_result"
    }
   ],
   "source": [
    "seq2seq_rnn.compile(\n",
    "    optimizer=\"rmsprop\",\n",
    "    loss=\"sparse_categorical_crossentropy\",\n",
    "    metrics=[\"accuracy\"])\n",
    "stop_early = keras.callbacks.EarlyStopping(monitor='val_loss', patience=3)\n",
    "seq2seq_rnn.fit(train_ds, epochs=15, validation_data=val_ds, callbacks=[stop_early])"
   ]
  },
  {
   "cell_type": "markdown",
   "metadata": {
    "colab_type": "text",
    "tags": []
   },
   "source": [
    "**Saving of the trained RNN model**"
   ]
  },
  {
   "cell_type": "code",
   "execution_count": 10,
   "metadata": {
    "tags": []
   },
   "outputs": [],
   "source": [
    "# Attention les instructions suivantes (en commentaire) génèrent un fichier de taille > 100 Mo, ce qui bloque la synchronisation avec Github (commit)\n",
    "seq2seq_rnn.save(\"../data/seq2seq_rnn-model-\"+src+\"-\"+tgt+\".h5\")\n",
    "#seq2seq_rnn.save(\"../data/seq2seq_rnn-model_no_opt-\"+src+\"-\"+tgt+\".h5\", include_optimizer=False)\n",
    "#seq2seq_rnn.save_weights(\"../data/seq2seq_rnn-model-\"+src+\"-\"+tgt+\".weights.h5\")\n",
    "\n",
    "# Voici une instruction qui permet de passer sous la barre des 100 Mo.....\n",
    "from filesplit.split import Split\n",
    "Split(\"../data/seq2seq_rnn-model-\"+src+\"-\"+tgt+\".h5\", \"../data/rnn_\"+src+\"-\"+tgt+\"_split\").bysize(66846720)\n",
    "\n",
    "# seq2seq_rnn = keras.models.load_model(\"../data/seq2seq_rnn-model-\"+src+\"-\"+tgt+\".h5\")"
   ]
  },
  {
   "cell_type": "markdown",
   "metadata": {
    "colab_type": "text"
   },
   "source": [
    "**Translating new sentences with our RNN encoder and decoder**"
   ]
  },
  {
   "cell_type": "code",
   "execution_count": 27,
   "metadata": {
    "colab_type": "code",
    "tags": []
   },
   "outputs": [
    {
     "name": "stdout",
     "output_type": "stream",
     "text": [
      "-\n",
      "FR   l' inde est jamais froid en juin , mais il est parfois merveilleux en avril .\n",
      "EN-> india is never chilly during june but it is sometimes wonderful in april\n",
      "-\n",
      "FR   les états-unis est jamais à sec au mois d' août , mais il est parfois calme en mars .\n",
      "EN-> the united states is never dry during august but it is sometimes quiet in march\n",
      "-\n",
      "FR   notre fruit préféré moins est la banane , mais votre moins préférée est la chaux .\n",
      "EN-> our least favorite fruit is the banana but your least favorite is the lime\n",
      "-\n",
      "FR   paris est parfois chaud en décembre , mais il est jamais agréable au printemps .\n",
      "EN-> paris is sometimes warm during december but it is never nice in spring\n",
      "-\n",
      "FR   quand est -elle allée sur le terrain de football ?\n",
      "EN-> when did she go to the football field\n",
      "-\n",
      "FR   aiment-ils la californie ?\n",
      "EN-> do they like california is usually\n",
      "-\n",
      "FR   l' inde est jamais chaud au mois de mars , mais il est doux en été .\n",
      "EN-> india is never warm during march but it is mild in summer\n",
      "-\n",
      "FR   elle déteste les citrons , citrons verts , et les poires .\n",
      "EN-> she dislikes lemons limes and pears\n",
      "-\n",
      "FR   la france est parfois belle en février , mais il est occupé en mars .\n",
      "EN-> france is sometimes beautiful during february but it is busy in march\n",
      "-\n",
      "FR   la pêche est son moins fruit préféré , mais la banane est son moins préféré .\n",
      "EN-> the peach is his least favorite fruit but the banana is her least favorite\n",
      "-\n",
      "FR   notre moins aimé des fruits est la pêche , mais leur moins aimé est la poire .\n",
      "EN-> our least liked fruit is the peach but their least liked is the pear\n",
      "-\n",
      "FR   la mangue est son fruit le plus aimé , mais la chaux elle est le plus aimé .\n",
      "EN-> the mango is his most loved fruit but the lime is her most loved\n",
      "-\n",
      "FR   la chine est généralement enneigée au mois de mai , et il est généralement chaud en novembre .\n",
      "EN-> china is usually snowy during may and it is usually hot in november\n",
      "-\n",
      "FR   je n'aime pas citrons verts , mangues , et les fraises .\n",
      "EN-> i dislike limes mangoes and strawberries\n",
      "-\n",
      "FR   la france est parfois calme en novembre , et il est jamais agréable au printemps .\n",
      "EN-> france is sometimes quiet during november and it is never nice in spring\n",
      "-\n",
      "FR   il déteste les grandes oranges .\n",
      "EN-> he dislikes bananas\n",
      "-\n",
      "FR   elle déteste les pêches , citrons verts et le pamplemousse .\n",
      "EN-> she dislikes peaches limes and grapefruit\n",
      "-\n",
      "FR   la banane est mon fruit préféré moins , mais la pêche est son moins préféré .\n",
      "EN-> the banana is my least favorite fruit but the peach is her least favorite\n",
      "-\n",
      "FR   la pêche est leur fruit moins aimé , mais le raisin est son moins aimé .\n",
      "EN-> the peach is their least liked fruit but the grape is his least liked\n",
      "-\n",
      "FR   il aime les oranges , le pamplemousse et les mangues .\n",
      "EN-> he likes oranges grapefruit and mangoes\n"
     ]
    }
   ],
   "source": [
    "import numpy as np\n",
    "tgt_vocab = target_vectorization.get_vocabulary()\n",
    "tgt_index_lookup = dict(zip(range(len(tgt_vocab)), tgt_vocab))\n",
    "max_decoded_sentence_length = 30\n",
    "\n",
    "def decode_sequence_rnn(input_sentence):\n",
    "    tokenized_input_sentence = source_vectorization([input_sentence])\n",
    "    decoded_sentence = \"[start]\"\n",
    "    for i in range(max_decoded_sentence_length):\n",
    "        tokenized_target_sentence = target_vectorization([decoded_sentence])\n",
    "        next_token_predictions = seq2seq_rnn.predict(\n",
    "            [tokenized_input_sentence, tokenized_target_sentence], verbose=0)\n",
    "        sampled_token_index = np.argmax(next_token_predictions[0, i, :])\n",
    "        sampled_token = tgt_index_lookup[sampled_token_index]\n",
    "        decoded_sentence += \" \" + sampled_token\n",
    "        if sampled_token == \"[end]\":\n",
    "            break\n",
    "    return decoded_sentence[8:-6]\n",
    "\n",
    "test_src_texts = [pair[0] for pair in test_pairs]\n",
    "for _ in range(20):\n",
    "    input_sentence = random.choice(test_src_texts)\n",
    "    print(\"-\")\n",
    "    print(src.upper()+\"  \",input_sentence)\n",
    "    print(tgt.upper()+\"->\",decode_sequence_rnn(input_sentence))"
   ]
  },
  {
   "cell_type": "code",
   "execution_count": 37,
   "metadata": {
    "tags": []
   },
   "outputs": [
    {
     "name": "stdout",
     "output_type": "stream",
     "text": [
      "EN-> paris is rainy during winter but it is never wonderful in winter\n",
      "EN-> new jersey is sometimes quiet during autumn and it is snowy in april\n"
     ]
    }
   ],
   "source": [
    "if src=='fr':\n",
    "    your_sentence1 = \"paris est pluvieux pendant l'été, mais la france n'est jamais magnifique en hiver\" \n",
    "    your_sentence2 = \"new jersey est parfois calme pendant l' automne , et il est neigeux en avril .\" \n",
    "else:\n",
    "    your_sentence1 = \"paris is rainy during summer , and france is never wonderful in winter\"\n",
    "    your_sentence2 = \"new jersey is sometimes quiet during autumn , and it is snowy in april .\"\n",
    "    \n",
    "print(tgt.upper()+\"->\",decode_sequence_rnn(your_sentence1))\n",
    "print(tgt.upper()+\"->\",decode_sequence_rnn(your_sentence2))"
   ]
  },
  {
   "cell_type": "markdown",
   "metadata": {
    "colab_type": "text"
   },
   "source": [
    "### **3. Sequence-to-sequence learning with Transformer**"
   ]
  },
  {
   "cell_type": "markdown",
   "metadata": {
    "colab_type": "text"
   },
   "source": [
    "#### The Transformer decoder"
   ]
  },
  {
   "cell_type": "markdown",
   "metadata": {
    "colab_type": "text"
   },
   "source": [
    "**The `TransformerDecoder`**"
   ]
  },
  {
   "cell_type": "code",
   "execution_count": 17,
   "metadata": {
    "colab_type": "code",
    "tags": []
   },
   "outputs": [],
   "source": [
    "class TransformerDecoder(layers.Layer):\n",
    "    def __init__(self, embed_dim, dense_dim, num_heads, **kwargs):\n",
    "        super().__init__(**kwargs)\n",
    "        self.embed_dim = embed_dim\n",
    "        self.dense_dim = dense_dim\n",
    "        self.num_heads = num_heads\n",
    "        self.attention_1 = layers.MultiHeadAttention(\n",
    "            num_heads=num_heads, key_dim=embed_dim)\n",
    "        self.attention_2 = layers.MultiHeadAttention(\n",
    "            num_heads=num_heads, key_dim=embed_dim)\n",
    "        self.dense_proj = keras.Sequential(\n",
    "            [layers.Dense(dense_dim, activation=\"relu\"),\n",
    "             layers.Dense(embed_dim),]\n",
    "        )\n",
    "        self.layernorm_1 = layers.LayerNormalization()\n",
    "        self.layernorm_2 = layers.LayerNormalization()\n",
    "        self.layernorm_3 = layers.LayerNormalization()\n",
    "        self.supports_masking = True\n",
    "\n",
    "    def get_config(self):\n",
    "        config = super().get_config()\n",
    "        config.update({\n",
    "            \"embed_dim\": self.embed_dim,\n",
    "            \"num_heads\": self.num_heads,\n",
    "            \"dense_dim\": self.dense_dim,\n",
    "        })\n",
    "        return config\n",
    "\n",
    "    def get_causal_attention_mask(self, inputs):\n",
    "        input_shape = tf.shape(inputs)\n",
    "        batch_size, sequence_length = input_shape[0], input_shape[1]\n",
    "        i = tf.range(sequence_length)[:, tf.newaxis]\n",
    "        j = tf.range(sequence_length)\n",
    "        mask = tf.cast(i >= j, dtype=\"int32\")\n",
    "        mask = tf.reshape(mask, (1, input_shape[1], input_shape[1]))\n",
    "        mult = tf.concat(\n",
    "            [tf.expand_dims(batch_size, -1),\n",
    "             tf.constant([1, 1], dtype=tf.int32)], axis=0)\n",
    "        return tf.tile(mask, mult)\n",
    "\n",
    "    def call(self, inputs, encoder_outputs, mask=None):\n",
    "        causal_mask = self.get_causal_attention_mask(inputs)\n",
    "        if mask is not None:\n",
    "            padding_mask = tf.cast(\n",
    "                mask[:, tf.newaxis, :], dtype=\"int32\")\n",
    "            padding_mask = tf.minimum(padding_mask, causal_mask)\n",
    "        else:\n",
    "            padding_mask = mask\n",
    "        attention_output_1 = self.attention_1(\n",
    "            query=inputs,\n",
    "            value=inputs,\n",
    "            key=inputs,\n",
    "            attention_mask=causal_mask)\n",
    "        attention_output_1 = self.layernorm_1(inputs + attention_output_1)\n",
    "        attention_output_2 = self.attention_2(\n",
    "            query=attention_output_1,\n",
    "            value=encoder_outputs,\n",
    "            key=encoder_outputs,\n",
    "            attention_mask=padding_mask,\n",
    "        )\n",
    "        attention_output_2 = self.layernorm_2(\n",
    "            attention_output_1 + attention_output_2)\n",
    "        proj_output = self.dense_proj(attention_output_2)\n",
    "        return self.layernorm_3(attention_output_2 + proj_output)"
   ]
  },
  {
   "cell_type": "markdown",
   "metadata": {
    "colab_type": "text"
   },
   "source": [
    "#### Putting it all together: A Transformer for machine translation"
   ]
  },
  {
   "cell_type": "markdown",
   "metadata": {
    "colab_type": "text"
   },
   "source": [
    "**PositionalEmbedding layer**"
   ]
  },
  {
   "cell_type": "code",
   "execution_count": 18,
   "metadata": {
    "colab_type": "code",
    "tags": []
   },
   "outputs": [],
   "source": [
    "class PositionalEmbedding(layers.Layer):\n",
    "    def __init__(self, sequence_length, input_dim, output_dim, **kwargs):\n",
    "        super().__init__(**kwargs)\n",
    "        self.token_embeddings = layers.Embedding(\n",
    "            input_dim=input_dim, output_dim=output_dim)\n",
    "        self.position_embeddings = layers.Embedding(\n",
    "            input_dim=sequence_length, output_dim=output_dim)\n",
    "        self.sequence_length = sequence_length\n",
    "        self.input_dim = input_dim\n",
    "        self.output_dim = output_dim\n",
    "\n",
    "    def call(self, inputs):\n",
    "        length = tf.shape(inputs)[-1]\n",
    "        positions = tf.range(start=0, limit=length, delta=1)\n",
    "        embedded_tokens = self.token_embeddings(inputs)\n",
    "        embedded_positions = self.position_embeddings(positions)\n",
    "        return embedded_tokens + embedded_positions\n",
    "\n",
    "    def compute_mask(self, inputs, mask=None):\n",
    "        return tf.math.not_equal(inputs, 0)\n",
    "\n",
    "    def get_config(self):\n",
    "        config = super(PositionalEmbedding, self).get_config()\n",
    "        config.update({\n",
    "            \"output_dim\": self.output_dim,\n",
    "            \"sequence_length\": self.sequence_length,\n",
    "            \"input_dim\": self.input_dim,\n",
    "        })\n",
    "        return config"
   ]
  },
  {
   "cell_type": "markdown",
   "metadata": {
    "colab_type": "text"
   },
   "source": [
    "**End-to-end Transformer**"
   ]
  },
  {
   "cell_type": "code",
   "execution_count": 19,
   "metadata": {
    "colab_type": "code",
    "tags": []
   },
   "outputs": [],
   "source": [
    "from keras_nlp.layers import TransformerEncoder\n",
    "embed_dim = 256\n",
    "dense_dim = 2048\n",
    "num_heads = 8\n",
    "\n",
    "encoder_inputs = keras.Input(shape=(None,), dtype=\"int64\", name=src)\n",
    "x = PositionalEmbedding(sequence_length, vocab_size, embed_dim, name='positionalEmbeddingSource')(encoder_inputs)\n",
    "encoder_outputs = TransformerEncoder(dense_dim, num_heads, name='encoder_outputs')(x)\n",
    "\n",
    "decoder_inputs = keras.Input(shape=(None,), dtype=\"int64\", name=tgt)\n",
    "x = PositionalEmbedding(sequence_length, vocab_size, embed_dim, name='positionalEmbeddingTarget')(decoder_inputs)\n",
    "x = TransformerDecoder(embed_dim, dense_dim, num_heads,  name='transformerDecoder')(x, encoder_outputs)\n",
    "x = layers.Dropout(0.5, name='dropout')(x)\n",
    "decoder_outputs = layers.Dense(vocab_size, activation=\"softmax\", name='decoder_outputs')(x)\n",
    "transformer = keras.Model([encoder_inputs, decoder_inputs], decoder_outputs)"
   ]
  },
  {
   "cell_type": "markdown",
   "metadata": {
    "colab_type": "text"
   },
   "source": [
    "**Training the sequence-to-sequence Transformer**"
   ]
  },
  {
   "cell_type": "code",
   "execution_count": 20,
   "metadata": {
    "colab_type": "code",
    "tags": []
   },
   "outputs": [
    {
     "name": "stdout",
     "output_type": "stream",
     "text": [
      "Epoch 1/15\n",
      "1508/1508 [==============================] - 91s 59ms/step - loss: 0.1379 - accuracy: 0.9160 - val_loss: 0.0223 - val_accuracy: 0.9742\n",
      "Epoch 2/15\n",
      "1508/1508 [==============================] - 90s 60ms/step - loss: 0.0260 - accuracy: 0.9733 - val_loss: 0.0273 - val_accuracy: 0.9715\n",
      "Epoch 3/15\n",
      "1508/1508 [==============================] - 90s 60ms/step - loss: 0.0231 - accuracy: 0.9749 - val_loss: 0.0193 - val_accuracy: 0.9765\n",
      "Epoch 4/15\n",
      "1508/1508 [==============================] - 90s 60ms/step - loss: 0.0209 - accuracy: 0.9760 - val_loss: 0.0170 - val_accuracy: 0.9777\n",
      "Epoch 5/15\n",
      "1508/1508 [==============================] - 90s 60ms/step - loss: 0.0194 - accuracy: 0.9767 - val_loss: 0.0181 - val_accuracy: 0.9771\n",
      "Epoch 6/15\n",
      "1508/1508 [==============================] - 90s 60ms/step - loss: 0.0184 - accuracy: 0.9773 - val_loss: 0.0171 - val_accuracy: 0.9778\n",
      "Epoch 7/15\n",
      "1508/1508 [==============================] - 91s 60ms/step - loss: 0.0178 - accuracy: 0.9778 - val_loss: 0.0163 - val_accuracy: 0.9783\n",
      "Epoch 8/15\n",
      "1508/1508 [==============================] - 91s 60ms/step - loss: 0.0173 - accuracy: 0.9780 - val_loss: 0.0170 - val_accuracy: 0.9782\n",
      "Epoch 9/15\n",
      "1508/1508 [==============================] - 91s 60ms/step - loss: 0.0169 - accuracy: 0.9785 - val_loss: 0.0154 - val_accuracy: 0.9793\n",
      "Epoch 10/15\n",
      "1508/1508 [==============================] - 91s 60ms/step - loss: 0.0163 - accuracy: 0.9786 - val_loss: 0.0149 - val_accuracy: 0.9794\n",
      "Epoch 11/15\n",
      "1508/1508 [==============================] - 91s 60ms/step - loss: 0.0161 - accuracy: 0.9787 - val_loss: 0.0151 - val_accuracy: 0.9792\n",
      "Epoch 12/15\n",
      "1508/1508 [==============================] - 91s 60ms/step - loss: 0.0159 - accuracy: 0.9789 - val_loss: 0.0146 - val_accuracy: 0.9793\n",
      "Epoch 13/15\n",
      "1508/1508 [==============================] - 91s 60ms/step - loss: 0.0156 - accuracy: 0.9790 - val_loss: 0.0148 - val_accuracy: 0.9793\n",
      "Epoch 14/15\n",
      "1508/1508 [==============================] - 92s 61ms/step - loss: 0.0157 - accuracy: 0.9790 - val_loss: 0.0153 - val_accuracy: 0.9794\n",
      "Epoch 15/15\n",
      "1508/1508 [==============================] - 92s 61ms/step - loss: 0.0153 - accuracy: 0.9794 - val_loss: 0.0147 - val_accuracy: 0.9793\n"
     ]
    },
    {
     "data": {
      "text/plain": [
       "<keras.callbacks.History at 0x1e5c0722cd0>"
      ]
     },
     "execution_count": 20,
     "metadata": {},
     "output_type": "execute_result"
    }
   ],
   "source": [
    "transformer.compile(\n",
    "    optimizer=\"rmsprop\",\n",
    "    loss=\"sparse_categorical_crossentropy\",\n",
    "    metrics=[\"accuracy\"])\n",
    "stop_early = keras.callbacks.EarlyStopping(monitor='val_loss', patience=3)\n",
    "transformer.fit(train_ds, epochs=15, validation_data=val_ds, callbacks=[stop_early])"
   ]
  },
  {
   "cell_type": "markdown",
   "metadata": {
    "colab_type": "text"
   },
   "source": [
    "**Saving of the trained Transformer model**"
   ]
  },
  {
   "cell_type": "code",
   "execution_count": 21,
   "metadata": {
    "tags": []
   },
   "outputs": [],
   "source": [
    "for i in range(len(transformer.weights)):\n",
    "    transformer.weights[i]._handle_name = transformer.weights[i].name + \"_\" + str(i)\n",
    "    \n",
    "transformer.save(\"../data/transformer-model-\"+src+\"-\"+tgt+\".h5\", include_optimizer=False)\n",
    "transformer.save_weights(\"../data/transformer-model-\"+src+\"-\"+tgt+\".weights.h5\")\n"
   ]
  },
  {
   "cell_type": "markdown",
   "metadata": {
    "colab_type": "text"
   },
   "source": [
    "**Translating new sentences with our Transformer model**"
   ]
  },
  {
   "cell_type": "code",
   "execution_count": 35,
   "metadata": {
    "colab_type": "code",
    "tags": []
   },
   "outputs": [
    {
     "name": "stdout",
     "output_type": "stream",
     "text": [
      "-\n",
      "FR  california est relaxant pendant l' été , et il ne fait jamais froid en août .\n",
      "EN   california is relaxing during summer  and it is never cold in august \n",
      "EN-> california is relaxing during summer and it is never cold in august\n",
      "-\n",
      "FR  les états-unis est généralement pluvieux en septembre , et il est généralement agréable en juin .\n",
      "EN   the united states is usually rainy during september  and it is usually nice in june \n",
      "EN-> the united states is usually rainy during september and it is usually nice in june\n",
      "-\n",
      "FR  californie est jamais de neige en octobre , mais il est parfois relaxant en mars .\n",
      "EN   california is never snowy during october  but it is sometimes relaxing in march \n",
      "EN-> california is never snowy during october but it is sometimes relaxing in march\n",
      "-\n",
      "FR  elle déteste les citrons , les pommes et les mangues .\n",
      "EN   she dislikes lemons  apples  and mangoes \n",
      "EN-> she dislikes lemons apples and mangoes\n",
      "-\n",
      "FR  son animal préféré était moins ce requin .\n",
      "EN   his least favorite animal was this shark \n",
      "EN-> her least favorite animal was this shark\n",
      "-\n",
      "FR  l' inde est généralement agréable au printemps , mais il gèle jamais en hiver .\n",
      "EN   india is usually pleasant during spring  but it is never freezing in winter \n",
      "EN-> india is usually nice during spring but it is never freezing in winter\n",
      "-\n",
      "FR  chine est jamais chaud au mois de novembre , mais il est parfois le gel en septembre .\n",
      "EN   china is never hot during november  but it is sometimes freezing in september \n",
      "EN-> china is never warm during november but it is sometimes freezing in september\n",
      "-\n",
      "FR  la france est généralement calme au cours de l' automne , mais il est jamais relaxant en mars .\n",
      "EN   france is usually quiet during fall  but it is never relaxing in march \n",
      "EN-> france is usually quiet during autumn but it is never relaxing in march\n",
      "-\n",
      "FR  le cheval est son animal préféré .\n",
      "EN   the horse is his favorite animal \n",
      "EN-> the horse is her favorite animal\n",
      "-\n",
      "FR  new jersey est humide en octobre , et il est merveilleux en décembre .\n",
      "EN   new jersey is wet during october  and it is wonderful in december \n",
      "EN-> new jersey is wet during october and it is wonderful in december\n",
      "-\n",
      "FR  la fraise est notre fruit le plus aimé , mais la mangue est elle aimait le plus .\n",
      "EN   the strawberry is our most loved fruit  but the mango is her most loved\n",
      "EN-> the strawberry is our most loved fruit but the mango is her most loved\n",
      "-\n",
      "FR  ne nous plaît pas , les oranges , citrons verts et des pommes .\n",
      "EN   we dislike limes  oranges  and apples\n",
      "EN-> we dislike limes oranges and apples\n",
      "-\n",
      "FR  paris est généralement sec en juin , et il est agréable en février .\n",
      "EN   paris is usually dry during june  and it is pleasant in february \n",
      "EN-> paris is usually dry during june and it is nice in february\n",
      "-\n",
      "FR  la france est généralement calme pendant l' été , et il est parfois enneigée en octobre .\n",
      "EN   france is usually quiet during summer  and it is sometimes snowy in october \n",
      "EN-> france is usually quiet during summer and it is sometimes snowy in october\n",
      "-\n",
      "FR  la chaux est mon fruit le plus aimé , mais la pêche elle est le plus aimé.\n",
      "EN   the lime is my most loved fruit  but the peach is her most loved \n",
      "EN-> the lime is my most loved fruit but the peach is her most loved\n",
      "-\n",
      "FR  il déteste les citrons , les mangues et les poires .\n",
      "EN   he dislikes lemons  mangoes  and pears\n",
      "EN-> he dislikes lemons mangoes and pears\n",
      "-\n",
      "FR  il conduisait cette voiture rouillée noir .\n",
      "EN   he was driving that rusty black automobile \n",
      "EN-> he was driving that rusty black automobile\n",
      "-\n",
      "FR  chine est parfois frisquet en juin , mais il est parfois chaud en avril .\n",
      "EN   china is sometimes chilly during june  but it is sometimes warm in april \n",
      "EN-> china is sometimes chilly during june but it is sometimes warm in april\n",
      "-\n",
      "FR  elle déteste les pommes , les pêches et les mangues .\n",
      "EN   she dislikes apples  peaches  and mangoes \n",
      "EN-> she dislikes apples peaches and mangoes\n",
      "-\n",
      "FR  new jersey est parfois agréable au printemps , mais il est relaxant en juillet .\n",
      "EN   new jersey is sometimes nice during spring  but it is relaxing in july \n",
      "EN-> new jersey is sometimes nice during spring but it is relaxing in july\n"
     ]
    }
   ],
   "source": [
    "import numpy as np\n",
    "tgt_vocab = target_vectorization.get_vocabulary()\n",
    "tgt_index_lookup = dict(zip(range(len(tgt_vocab)), tgt_vocab))\n",
    "max_decoded_sentence_length = 30\n",
    "\n",
    "def decode_sequence_transf(input_sentence):\n",
    "    tokenized_input_sentence = source_vectorization([input_sentence])\n",
    "    decoded_sentence = \"[start]\"\n",
    "    for i in range(max_decoded_sentence_length):\n",
    "        tokenized_target_sentence = target_vectorization(\n",
    "            [decoded_sentence])[:, :-1]\n",
    "        predictions = transformer(\n",
    "            [tokenized_input_sentence, tokenized_target_sentence])\n",
    "        sampled_token_index = np.argmax(predictions[0, i, :])\n",
    "        sampled_token = tgt_index_lookup[sampled_token_index]\n",
    "        decoded_sentence += \" \" + sampled_token\n",
    "        if sampled_token == \"[end]\":\n",
    "            break\n",
    "    return decoded_sentence[8:-6]\n",
    "\n",
    "test_src_texts = [pair[0] for pair in test_pairs]\n",
    "test_tgt_texts = [pair[1][8:-6] for pair in test_pairs]\n",
    "\n",
    "# Removing Punctuations (we keep the . character)\n",
    "REPLACEMENTS = [(\".\", \"\"),\n",
    "                (\",\", \"\"),\n",
    "                (\";\", \"\"),\n",
    "                (\":\", \"\"),\n",
    "                (\"?\", \"\"),\n",
    "                ('\"', \"\"),\n",
    "                (\"-\", \" \"),\n",
    "                (\"'\", \" \")\n",
    "               ]\n",
    "for i in range(len(test_tgt_texts)):\n",
    "    for old, new in REPLACEMENTS:\n",
    "        test_tgt_texts[i] = test_tgt_texts[i].replace(old, new)\n",
    "        \n",
    "for _ in range(20):\n",
    "    n = random.randrange(num_val_samples)\n",
    "    input_sentence = test_src_texts[n]\n",
    "    translation = test_tgt_texts[n]\n",
    "    print(\"-\")\n",
    "    print(src.upper()+\" \",input_sentence)\n",
    "    print(tgt.upper()+\"  \",translation)\n",
    "    print(tgt.upper()+\"->\",decode_sequence_transf(input_sentence))"
   ]
  },
  {
   "cell_type": "markdown",
   "metadata": {},
   "source": [
    "<br></br>\n",
    "**You turn to play:** Enter a sentence.."
   ]
  },
  {
   "cell_type": "code",
   "execution_count": 36,
   "metadata": {
    "tags": []
   },
   "outputs": [
    {
     "name": "stdout",
     "output_type": "stream",
     "text": [
      "EN-> paris is rainy during summer but it is never warm in winter\n",
      "EN-> new jersey is sometimes quiet during autumn and it is snowy in april\n"
     ]
    }
   ],
   "source": [
    "if src=='fr':\n",
    "    your_sentence1 = \"paris est pluvieux pendant l'été, mais la france n'est jamais magnifique en hiver\" \n",
    "    your_sentence2 = \"new jersey est parfois calme pendant l' automne , et il est neigeux en avril .\" \n",
    "else:\n",
    "    your_sentence1 = \"paris is rainy during summer , and france is never wonderful in winter\"\n",
    "    your_sentence2 = \"new jersey is sometimes quiet during autumn , and it is snowy in april .\"\n",
    "    \n",
    "\n",
    "print(tgt.upper()+\"->\",decode_sequence_transf(your_sentence1))\n",
    "print(tgt.upper()+\"->\",decode_sequence_transf(your_sentence2))"
   ]
  },
  {
   "cell_type": "markdown",
   "metadata": {},
   "source": [
    "**Qualité de traduction seq2seq sur le corpus Test par les 2 méthodes (300 premieres phrases)**"
   ]
  },
  {
   "cell_type": "code",
   "execution_count": 25,
   "metadata": {
    "tags": []
   },
   "outputs": [
    {
     "name": "stdout",
     "output_type": "stream",
     "text": [
      "Score Bleu de la traduction du corpus Test par la méthode RNN = 94.4%\n",
      " -> durée de traduction et de calcul du score : 291  secondes\n",
      "\n",
      "Score Bleu de la traduction du corpus Test par la méthode Transformer = 94.1%\n",
      " -> durée de traduction et de calcul du score : 135  secondes\n",
      "\n"
     ]
    }
   ],
   "source": [
    "from sacrebleu import sentence_bleu, corpus_bleu\n",
    "\n",
    "# Taille du corpus d'évaluation\n",
    "n = 300\n",
    "\n",
    "def corpus_translation(method):\n",
    "    translation = []\n",
    "    test_src_texts = [pair[0] for pair in test_pairs]\n",
    "    for txt in test_src_texts[:n]:\n",
    "        if method == 'RNN':\n",
    "            translation.append(decode_sequence_rnn(txt))\n",
    "        else:\n",
    "            translation.append(decode_sequence_transf(txt))\n",
    "    return translation\n",
    "\n",
    "if bleu_score_to_do:\n",
    "    tps1 = time.time()\n",
    "    tr_RNN = corpus_translation('RNN')\n",
    "    translation_quality_RNN = corpus_bleu(tr_RNN, [test_tgt_texts[:n]]).score\n",
    "    print(f'Score Bleu de la traduction du corpus Test par la méthode RNN = {translation_quality_RNN:.1f}%')\n",
    "    tps2 = time.time()\n",
    "    print(\" -> durée de traduction et de calcul du score :\",int(tps2-tps1),\" secondes\\n\")\n",
    "    tr_Transformer = corpus_translation('Transformer')\n",
    "    translation_quality_Transformer = corpus_bleu(tr_Transformer, [test_tgt_texts[:n]]).score\n",
    "    print(f'Score Bleu de la traduction du corpus Test par la méthode Transformer = {translation_quality_Transformer:.1f}%')\n",
    "    tps3 = time.time()\n",
    "    print(\" -> durée de traduction et de calcul du score :\",int(tps3-tps2),\" secondes\\n\")\n"
   ]
  }
 ],
 "metadata": {
  "colab": {
   "collapsed_sections": [],
   "name": "chapter11_part04_sequence-to-sequence-learning.i",
   "private_outputs": false,
   "provenance": [],
   "toc_visible": true
  },
  "kernelspec": {
   "display_name": "Python 3 (ipykernel)",
   "language": "python",
   "name": "python3"
  },
  "language_info": {
   "codemirror_mode": {
    "name": "ipython",
    "version": 3
   },
   "file_extension": ".py",
   "mimetype": "text/x-python",
   "name": "python",
   "nbconvert_exporter": "python",
   "pygments_lexer": "ipython3",
   "version": "3.9.7"
  }
 },
 "nbformat": 4,
 "nbformat_minor": 4
}
