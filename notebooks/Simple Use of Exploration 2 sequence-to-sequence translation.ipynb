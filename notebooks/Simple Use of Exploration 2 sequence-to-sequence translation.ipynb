{
 "cells": [
  {
   "cell_type": "markdown",
   "metadata": {
    "colab_type": "text"
   },
   "source": [
    "## **Sequence-to-sequence learning : FR to EN translation** - revision 02\n",
    "## **Using pre-trained models**"
   ]
  },
  {
   "cell_type": "markdown",
   "metadata": {
    "colab_type": "text"
   },
   "source": [
    "### **1. Small_vocab translation**"
   ]
  },
  {
   "cell_type": "code",
   "execution_count": 9,
   "metadata": {
    "tags": []
   },
   "outputs": [],
   "source": [
    "import os\n",
    "\n",
    "def load_data(path):\n",
    "\n",
    "    # Nombre maximum de lignes à renvoyer\n",
    "    max_lines = 140000\n",
    "    \n",
    "    input_file = os.path.join(path)\n",
    "    with open(input_file, \"r\",  encoding=\"utf-8\") as f:\n",
    "        data = f.read()\n",
    "   \n",
    "    data = data.split('\\n')\n",
    "    return data[:min(len(data),max_lines)]"
   ]
  },
  {
   "cell_type": "code",
   "execution_count": 10,
   "metadata": {
    "tags": []
   },
   "outputs": [],
   "source": [
    "\n",
    "\n",
    "# Indication de calculer le score Bleu\n",
    "bleu_score_to_do = True\n",
    "\n",
    "# Chargement des textes dans les 2 langues (max lignes = max_lines)\n",
    "src = 'en'\n",
    "tgt = 'fr'\n",
    "txt_tgt = load_data('../data/small_vocab_'+tgt)\n",
    "txt_src = load_data('../data/small_vocab_'+src)\n",
    "\n",
    "text_pairs = []\n",
    "for line in range(len(txt_src)):\n",
    "    text_pairs.append((txt_src[line], \"[start] \" + txt_tgt[line] + \" [end]\" ))\n",
    "    "
   ]
  },
  {
   "cell_type": "code",
   "execution_count": 11,
   "metadata": {
    "colab_type": "code",
    "tags": []
   },
   "outputs": [
    {
     "name": "stdout",
     "output_type": "stream",
     "text": [
      "('she likes grapefruit , bananas , and lemons .', '[start] elle aime le pamplemousse , les bananes et les citrons . [end]')\n",
      "('she likes mangoes , oranges , and limes .', '[start] elle aime les mangues , les oranges et les citrons verts . [end]')\n"
     ]
    }
   ],
   "source": [
    "import random\n",
    "print(random.choice(text_pairs))\n",
    "print(random.choice(text_pairs))"
   ]
  },
  {
   "cell_type": "markdown",
   "metadata": {
    "colab_type": "text"
   },
   "source": [
    "**Vectorizing the English and French text pairs**"
   ]
  },
  {
   "cell_type": "code",
   "execution_count": 12,
   "metadata": {
    "colab_type": "code",
    "tags": []
   },
   "outputs": [],
   "source": [
    "import tensorflow as tf\n",
    "import string\n",
    "import re\n",
    "from tensorflow import keras\n",
    "from tensorflow.keras import layers\n",
    "\n",
    "strip_chars = string.punctuation + \"¿\"\n",
    "strip_chars = strip_chars.replace(\"[\", \"\")\n",
    "strip_chars = strip_chars.replace(\"]\", \"\")\n",
    "\n",
    "def custom_standardization(input_string):\n",
    "    lowercase = tf.strings.lower(input_string)\n",
    "    lowercase=tf.strings.regex_replace(lowercase, \"[à]\", \"a\")\n",
    "    return tf.strings.regex_replace(\n",
    "        lowercase, f\"[{re.escape(strip_chars)}]\", \"\")\n",
    "\n",
    "def load_vocab(file_path):\n",
    "    with open(file_path, \"r\",  encoding=\"utf-8\") as file:\n",
    "        return file.read().split('\\n')[:-1]\n",
    "\n",
    "vocab_size = 15000\n",
    "sequence_length = 30\n",
    "\n",
    "source_vectorization = layers.TextVectorization(\n",
    "    max_tokens=vocab_size,\n",
    "    output_mode=\"int\",\n",
    "    output_sequence_length=sequence_length,\n",
    "    standardize=custom_standardization,\n",
    "    vocabulary = load_vocab(\"../data/vocab_\"+src+\".txt\"),\n",
    ")\n",
    "\n",
    "target_vectorization = layers.TextVectorization(\n",
    "    max_tokens=vocab_size,\n",
    "    output_mode=\"int\",\n",
    "    output_sequence_length=sequence_length + 1,\n",
    "    standardize=custom_standardization,\n",
    "    vocabulary = load_vocab(\"../data/vocab_\"+tgt+\".txt\"),\n",
    ")\n",
    "\n",
    "source_texts = [pair[0] for pair in text_pairs]\n",
    "target_texts = [pair[1] for pair in text_pairs]\n"
   ]
  },
  {
   "cell_type": "markdown",
   "metadata": {},
   "source": [
    "**Defining Sample sentences for translation**"
   ]
  },
  {
   "cell_type": "code",
   "execution_count": 13,
   "metadata": {
    "tags": []
   },
   "outputs": [],
   "source": [
    "input_sentence=[]\n",
    "for i in range(20):\n",
    "    input_sentence.append(random.choice(source_texts))"
   ]
  },
  {
   "cell_type": "markdown",
   "metadata": {
    "colab_type": "text"
   },
   "source": [
    "### **2. Sequence-to-sequence learning with RNNs**"
   ]
  },
  {
   "cell_type": "markdown",
   "metadata": {
    "colab_type": "text"
   },
   "source": [
    "**Loading of the trained RNN model**"
   ]
  },
  {
   "cell_type": "code",
   "execution_count": 14,
   "metadata": {
    "tags": []
   },
   "outputs": [],
   "source": [
    "# seq2seq_rnn = keras.models.load_model(\"../data/seq2seq_rnn-model-\"+src+\"-\"+tgt+\".h5\")\n",
    "\n",
    "from filesplit.merge import Merge\n",
    "merge = Merge( \"../data/rnn_\"+src+\"-\"+tgt+\"_split\",  \"../data\", \"seq2seq_rnn-model-\"+src+\"-\"+tgt+\".h5\").merge(cleanup=False)\n",
    "seq2seq_rnn = keras.models.load_model(\"../data/seq2seq_rnn-model-\"+src+\"-\"+tgt+\".h5\")\n"
   ]
  },
  {
   "cell_type": "code",
   "execution_count": 15,
   "metadata": {
    "tags": []
   },
   "outputs": [
    {
     "data": {
      "image/png": "[encoded data removed]",
      "text/plain": [
       "<IPython.core.display.Image object>"
      ]
     },
     "execution_count": 15,
     "metadata": {},
     "output_type": "execute_result"
    }
   ],
   "source": [
    "# seq2seq_rnn.summary()\n",
    "from keras.utils.vis_utils import plot_model\n",
    "plot_model(seq2seq_rnn, show_shapes=True, show_layer_names=True, show_layer_activations=True,rankdir='TB')  # to_file='../images/seq2seq_model_plot.png'\n"
   ]
  },
  {
   "cell_type": "markdown",
   "metadata": {
    "colab_type": "text"
   },
   "source": [
    "**Translating new sentences with our RNN encoder and decoder**"
   ]
  },
  {
   "cell_type": "code",
   "execution_count": 9,
   "metadata": {
    "colab_type": "code",
    "tags": []
   },
   "outputs": [
    {
     "name": "stdout",
     "output_type": "stream",
     "text": [
      "-\n",
      "FR   la chine est parfois agréable au cours de l' automne , mais il gèle jamais en juin .\n",
      "EN-> china is sometimes pleasant during autumn but it is never freezing in june\n",
      "-\n",
      "FR   paris est jamais froid en décembre , et il est parfois le gel en août .\n",
      "EN-> paris is never chilly during december and it is sometimes freezing in august\n",
      "-\n",
      "FR   la chine est relaxant au mois de mai , mais il fait froid à l' automne .\n",
      "EN-> china is relaxing during may but it is cold in fall\n",
      "-\n",
      "FR   mon fruit le plus aimé est la fraise , mais son plus aimé est la chaux .\n",
      "EN-> my most loved fruit is the strawberry but her most loved is the lime\n",
      "-\n",
      "FR   pourquoi at - elle aller en chine ?\n",
      "EN-> why did she go to china\n",
      "-\n",
      "FR   les états-unis est parfois chaud en juillet , mais il est parfois merveilleux en août .\n",
      "EN-> the united states is sometimes warm during july but it is sometimes wonderful in august\n",
      "-\n",
      "FR   je prévois de visiter new jersey en février .\n",
      "EN-> i plan to visit new jersey in february\n",
      "-\n",
      "FR   la chine est généralement pluvieux au cours de l' automne , mais il est parfois frisquet en juillet .\n",
      "EN-> china is usually rainy during fall but it is sometimes chilly in july\n",
      "-\n",
      "FR   la france est jamais agréable en juillet , mais il est parfois merveilleux en août .\n",
      "EN-> france is never pleasant during july but it is sometimes wonderful in august\n",
      "-\n",
      "FR   nos fruits le plus aimé est le raisin , mais son plus aimé est le citron .\n",
      "EN-> our most loved fruit is the grape but her most loved is the lemon\n",
      "-\n",
      "FR   votre fruit le plus aimé est la chaux , mais mon plus aimé est la mangue .\n",
      "EN-> your most loved fruit is the lime but my most loved is the mango\n",
      "-\n",
      "FR   elle est allée en inde en décembre dernier .\n",
      "EN-> she went to india last december\n",
      "-\n",
      "FR   paris est froid au mois de mai , mais il est généralement froid en octobre .\n",
      "EN-> paris is cold during may but it is usually chilly in october\n",
      "-\n",
      "FR   paris est jamais occupé en février , et il est parfois neigeux à l' automne .\n",
      "EN-> paris is never busy during february and it is sometimes snowy in fall\n",
      "-\n",
      "FR   les états-unis ne fait jamais froid en juillet , mais il est jamais relaxant en décembre .\n",
      "EN-> the united states is never cold during july but it is never relaxing in december\n",
      "-\n",
      "FR   la chaux est leur fruit moins aimé , mais la pêche est votre moins aimé .\n",
      "EN-> the lime is their least liked fruit but the peach is your least liked\n",
      "-\n",
      "FR   votre fruit le plus aimé est la pêche , mais leur plus aimé est le raisin .\n",
      "EN-> your most loved fruit is the peach but their most loved is the grape\n",
      "-\n",
      "FR   la poire est notre fruit préféré , mais la pêche est votre favori .\n",
      "EN-> the pear is our favorite fruit but the peach is your favorite\n",
      "-\n",
      "FR   l' inde est jamais la neige en janvier , et il est jamais merveilleux en juillet .\n",
      "EN-> india is never snowy during january and it is never wonderful in july\n",
      "-\n",
      "FR   chine est froid au printemps , et il est parfois chaud à l' automne .\n",
      "EN-> china is cold during spring and it is sometimes warm in fall\n"
     ]
    }
   ],
   "source": [
    "import numpy as np\n",
    "\n",
    "def decode_sequence_rnn(input_sentence):\n",
    "    tgt_vocab = target_vectorization.get_vocabulary()\n",
    "    tgt_index_lookup = dict(zip(range(len(tgt_vocab)), tgt_vocab))\n",
    "    max_decoded_sentence_length = 50\n",
    "    tokenized_input_sentence = source_vectorization([input_sentence])\n",
    "    decoded_sentence = \"[start]\"\n",
    "    for i in range(max_decoded_sentence_length):\n",
    "        tokenized_target_sentence = target_vectorization([decoded_sentence])\n",
    "        next_token_predictions = seq2seq_rnn.predict(\n",
    "            [tokenized_input_sentence, tokenized_target_sentence], verbose=0)\n",
    "        sampled_token_index = np.argmax(next_token_predictions[0, i, :])\n",
    "        sampled_token = tgt_index_lookup[sampled_token_index]\n",
    "        decoded_sentence += \" \" + sampled_token\n",
    "        if sampled_token == \"[end]\":\n",
    "            break\n",
    "    return decoded_sentence[8:-6]\n",
    "\n",
    "for i in range(20):\n",
    "    print(\"-\")\n",
    "    print(src.upper()+\"  \",input_sentence[i])\n",
    "    print(tgt.upper()+\"->\",decode_sequence_rnn(input_sentence[i]))"
   ]
  },
  {
   "cell_type": "markdown",
   "metadata": {
    "colab_type": "text"
   },
   "source": [
    "<br></br>\n",
    "**You turn to play:** Enter a sentence.."
   ]
  },
  {
   "cell_type": "code",
   "execution_count": 18,
   "metadata": {
    "tags": []
   },
   "outputs": [
    {
     "name": "stdout",
     "output_type": "stream",
     "text": [
      "EN-> paris is rainy during winter but it is never wonderful in winter\n",
      "EN-> new jersey is sometimes quiet during autumn and it is snowy in april\n"
     ]
    }
   ],
   "source": [
    "if src=='fr':\n",
    "    your_sentence1 = \"paris est pluvieux pendant l'été, mais la france n'est jamais magnifique en hiver\" \n",
    "    your_sentence2 = \"new jersey est parfois calme pendant l' automne , et il est neigeux en avril .\" \n",
    "else:\n",
    "    your_sentence1 = \"paris is rainy during summer , and france is never wonderful in winter\"\n",
    "    your_sentence2 = \"new jersey is sometimes quiet during autumn , and it is snowy in april .\"\n",
    "    \n",
    "print(tgt.upper()+\"->\",decode_sequence_rnn(your_sentence1))\n",
    "print(tgt.upper()+\"->\",decode_sequence_rnn(your_sentence2))"
   ]
  },
  {
   "cell_type": "markdown",
   "metadata": {
    "colab_type": "text"
   },
   "source": [
    "### **3. Sequence-to-sequence learning with Transformer**"
   ]
  },
  {
   "cell_type": "markdown",
   "metadata": {
    "colab_type": "text"
   },
   "source": [
    "#### The Transformer decoder"
   ]
  },
  {
   "cell_type": "markdown",
   "metadata": {
    "colab_type": "text"
   },
   "source": [
    "**The `TransformerDecoder`**"
   ]
  },
  {
   "cell_type": "code",
   "execution_count": 11,
   "metadata": {
    "colab_type": "code",
    "tags": []
   },
   "outputs": [],
   "source": [
    "class TransformerDecoder(layers.Layer):\n",
    "    def __init__(self, embed_dim, dense_dim, num_heads, **kwargs):\n",
    "        super().__init__(**kwargs)\n",
    "        self.embed_dim = embed_dim\n",
    "        self.dense_dim = dense_dim\n",
    "        self.num_heads = num_heads\n",
    "        self.attention_1 = layers.MultiHeadAttention(\n",
    "            num_heads=num_heads, key_dim=embed_dim)\n",
    "        self.attention_2 = layers.MultiHeadAttention(\n",
    "            num_heads=num_heads, key_dim=embed_dim)\n",
    "        self.dense_proj = keras.Sequential(\n",
    "            [layers.Dense(dense_dim, activation=\"relu\"),\n",
    "             layers.Dense(embed_dim),]\n",
    "        )\n",
    "        self.layernorm_1 = layers.LayerNormalization()\n",
    "        self.layernorm_2 = layers.LayerNormalization()\n",
    "        self.layernorm_3 = layers.LayerNormalization()\n",
    "        self.supports_masking = True\n",
    "\n",
    "    def get_config(self):\n",
    "        config = super().get_config()\n",
    "        config.update({\n",
    "            \"embed_dim\": self.embed_dim,\n",
    "            \"num_heads\": self.num_heads,\n",
    "            \"dense_dim\": self.dense_dim,\n",
    "        })\n",
    "        return config\n",
    "\n",
    "    def get_causal_attention_mask(self, inputs):\n",
    "        input_shape = tf.shape(inputs)\n",
    "        batch_size, sequence_length = input_shape[0], input_shape[1]\n",
    "        i = tf.range(sequence_length)[:, tf.newaxis]\n",
    "        j = tf.range(sequence_length)\n",
    "        mask = tf.cast(i >= j, dtype=\"int32\")\n",
    "        mask = tf.reshape(mask, (1, input_shape[1], input_shape[1]))\n",
    "        mult = tf.concat(\n",
    "            [tf.expand_dims(batch_size, -1),\n",
    "             tf.constant([1, 1], dtype=tf.int32)], axis=0)\n",
    "        return tf.tile(mask, mult)\n",
    "\n",
    "    def call(self, inputs, encoder_outputs, mask=None):\n",
    "        causal_mask = self.get_causal_attention_mask(inputs)\n",
    "        if mask is not None:\n",
    "            padding_mask = tf.cast(\n",
    "                mask[:, tf.newaxis, :], dtype=\"int32\")\n",
    "            padding_mask = tf.minimum(padding_mask, causal_mask)\n",
    "        else:\n",
    "            padding_mask = mask\n",
    "        attention_output_1 = self.attention_1(\n",
    "            query=inputs,\n",
    "            value=inputs,\n",
    "            key=inputs,\n",
    "            attention_mask=causal_mask)\n",
    "        attention_output_1 = self.layernorm_1(inputs + attention_output_1)\n",
    "        attention_output_2 = self.attention_2(\n",
    "            query=attention_output_1,\n",
    "            value=encoder_outputs,\n",
    "            key=encoder_outputs,\n",
    "            attention_mask=padding_mask,\n",
    "        )\n",
    "        attention_output_2 = self.layernorm_2(\n",
    "            attention_output_1 + attention_output_2)\n",
    "        proj_output = self.dense_proj(attention_output_2)\n",
    "        return self.layernorm_3(attention_output_2 + proj_output)"
   ]
  },
  {
   "cell_type": "markdown",
   "metadata": {
    "colab_type": "text"
   },
   "source": [
    "#### Putting it all together: A Transformer for machine translation"
   ]
  },
  {
   "cell_type": "markdown",
   "metadata": {
    "colab_type": "text"
   },
   "source": [
    "**PositionalEmbedding layer**"
   ]
  },
  {
   "cell_type": "code",
   "execution_count": 12,
   "metadata": {
    "colab_type": "code",
    "tags": []
   },
   "outputs": [],
   "source": [
    "class PositionalEmbedding(layers.Layer):\n",
    "    def __init__(self, sequence_length, input_dim, output_dim, **kwargs):\n",
    "        super().__init__(**kwargs)\n",
    "        self.token_embeddings = layers.Embedding(\n",
    "            input_dim=input_dim, output_dim=output_dim)\n",
    "        self.position_embeddings = layers.Embedding(\n",
    "            input_dim=sequence_length, output_dim=output_dim)\n",
    "        self.sequence_length = sequence_length\n",
    "        self.input_dim = input_dim\n",
    "        self.output_dim = output_dim\n",
    "\n",
    "    def call(self, inputs):\n",
    "        length = tf.shape(inputs)[-1]\n",
    "        positions = tf.range(start=0, limit=length, delta=1)\n",
    "        embedded_tokens = self.token_embeddings(inputs)\n",
    "        embedded_positions = self.position_embeddings(positions)\n",
    "        return embedded_tokens + embedded_positions\n",
    "\n",
    "    def compute_mask(self, inputs, mask=None):\n",
    "        return tf.math.not_equal(inputs, 0)\n",
    "\n",
    "    def get_config(self):\n",
    "        config = super(PositionalEmbedding, self).get_config()\n",
    "        config.update({\n",
    "            \"output_dim\": self.output_dim,\n",
    "            \"sequence_length\": self.sequence_length,\n",
    "            \"input_dim\": self.input_dim,\n",
    "        })\n",
    "        return config"
   ]
  },
  {
   "cell_type": "markdown",
   "metadata": {
    "colab_type": "text"
   },
   "source": [
    "**Loading of the trained Transformer model**"
   ]
  },
  {
   "cell_type": "code",
   "execution_count": 13,
   "metadata": {
    "tags": []
   },
   "outputs": [
    {
     "name": "stdout",
     "output_type": "stream",
     "text": [
      "Using TensorFlow backend\n",
      "WARNING:tensorflow:No training configuration found in the save file, so the model was *not* compiled. Compile it manually.\n"
     ]
    }
   ],
   "source": [
    "from keras_nlp.layers import TransformerEncoder\n",
    "transformer = keras.models.load_model(\n",
    "    \"../data/transformer-model-\"+src+\"-\"+tgt+\".h5\",\n",
    "    custom_objects={\"PositionalEmbedding\": PositionalEmbedding, \"TransformerDecoder\": TransformerDecoder},\n",
    ")\n",
    "transformer.compile(\n",
    "    optimizer=\"rmsprop\",\n",
    "    loss=\"sparse_categorical_crossentropy\",\n",
    "    metrics=[\"accuracy\"])\n",
    "transformer.load_weights(\"../data/transformer-model-\"+src+\"-\"+tgt+\".weights.h5\")\n"
   ]
  },
  {
   "cell_type": "code",
   "execution_count": 14,
   "metadata": {
    "tags": []
   },
   "outputs": [
    {
     "data": {
      "image/png": "[encoded data removed]",
      "text/plain": [
       "<IPython.core.display.Image object>"
      ]
     },
     "execution_count": 14,
     "metadata": {},
     "output_type": "execute_result"
    }
   ],
   "source": [
    "# transformer.summary()\n",
    "from keras.utils.vis_utils import plot_model\n",
    "plot_model(transformer, show_shapes=True, show_layer_names=True, show_layer_activations=True,rankdir='TB')  # to_file='../images/transformer_model_plot.png'"
   ]
  },
  {
   "cell_type": "markdown",
   "metadata": {
    "colab_type": "text"
   },
   "source": [
    "**Translating new sentences with our Transformer model**"
   ]
  },
  {
   "cell_type": "code",
   "execution_count": 15,
   "metadata": {
    "tags": []
   },
   "outputs": [
    {
     "name": "stdout",
     "output_type": "stream",
     "text": [
      "-\n",
      "FR   la chine est parfois agréable au cours de l' automne , mais il gèle jamais en juin .\n",
      "EN-> china is sometimes pleasant during autumn but it is never freezing in june\n",
      "-\n",
      "FR   paris est jamais froid en décembre , et il est parfois le gel en août .\n",
      "EN-> paris is never chilly during december and it is sometimes freezing in august\n",
      "-\n",
      "FR   la chine est relaxant au mois de mai , mais il fait froid à l' automne .\n",
      "EN-> china is relaxing during may but it is cold in fall\n",
      "-\n",
      "FR   mon fruit le plus aimé est la fraise , mais son plus aimé est la chaux .\n",
      "EN-> my most loved fruit is the strawberry but her most loved is the lime\n",
      "-\n",
      "FR   pourquoi at - elle aller en chine ?\n",
      "EN-> why did she go to china\n",
      "-\n",
      "FR   les états-unis est parfois chaud en juillet , mais il est parfois merveilleux en août .\n",
      "EN-> the united states is sometimes warm during july but it is sometimes wonderful in august\n",
      "-\n",
      "FR   je prévois de visiter new jersey en février .\n",
      "EN-> i plan to visit new jersey in february\n",
      "-\n",
      "FR   la chine est généralement pluvieux au cours de l' automne , mais il est parfois frisquet en juillet .\n",
      "EN-> china is usually rainy during fall but it is sometimes chilly in july\n",
      "-\n",
      "FR   la france est jamais agréable en juillet , mais il est parfois merveilleux en août .\n",
      "EN-> france is never nice during july but it is sometimes wonderful in august\n",
      "-\n",
      "FR   nos fruits le plus aimé est le raisin , mais son plus aimé est le citron .\n",
      "EN-> our most loved fruit is the grape but her most loved is the lemon\n",
      "-\n",
      "FR   votre fruit le plus aimé est la chaux , mais mon plus aimé est la mangue .\n",
      "EN-> your most loved fruit is the lime but my most loved is the mango\n",
      "-\n",
      "FR   elle est allée en inde en décembre dernier .\n",
      "EN-> she went to india last december\n",
      "-\n",
      "FR   paris est froid au mois de mai , mais il est généralement froid en octobre .\n",
      "EN-> paris is chilly during may but it is usually chilly in october\n",
      "-\n",
      "FR   paris est jamais occupé en février , et il est parfois neigeux à l' automne .\n",
      "EN-> paris is never busy during february and it is sometimes snowy in fall\n",
      "-\n",
      "FR   les états-unis ne fait jamais froid en juillet , mais il est jamais relaxant en décembre .\n",
      "EN-> the united states is never cold during july but it is never relaxing in december\n",
      "-\n",
      "FR   la chaux est leur fruit moins aimé , mais la pêche est votre moins aimé .\n",
      "EN-> the lime is their least liked fruit but the peach is your least liked\n",
      "-\n",
      "FR   votre fruit le plus aimé est la pêche , mais leur plus aimé est le raisin .\n",
      "EN-> your most loved fruit is the peach but their most loved is the grape\n",
      "-\n",
      "FR   la poire est notre fruit préféré , mais la pêche est votre favori .\n",
      "EN-> the pear is our favorite fruit but the peach is your favorite\n",
      "-\n",
      "FR   l' inde est jamais la neige en janvier , et il est jamais merveilleux en juillet .\n",
      "EN-> india is never snowy during january and it is never wonderful in july\n",
      "-\n",
      "FR   chine est froid au printemps , et il est parfois chaud à l' automne .\n",
      "EN-> china is cold during spring and it is sometimes warm in fall\n"
     ]
    }
   ],
   "source": [
    "import numpy as np\n",
    "\n",
    "def decode_sequence_tranf(input_sentence):\n",
    "    tgt_vocab = target_vectorization.get_vocabulary()\n",
    "    tgt_index_lookup = dict(zip(range(len(tgt_vocab)), tgt_vocab))\n",
    "    max_decoded_sentence_length = 30\n",
    "    tokenized_input_sentence = source_vectorization([input_sentence])\n",
    "    decoded_sentence = \"[start]\"\n",
    "    for i in range(max_decoded_sentence_length):\n",
    "        tokenized_target_sentence = target_vectorization(\n",
    "            [decoded_sentence])[:, :-1]\n",
    "        predictions = transformer(\n",
    "            [tokenized_input_sentence, tokenized_target_sentence])\n",
    "        sampled_token_index = np.argmax(predictions[0, i, :])\n",
    "        sampled_token = tgt_index_lookup[sampled_token_index]\n",
    "        decoded_sentence += \" \" + sampled_token\n",
    "        if sampled_token == \"[end]\":\n",
    "            break\n",
    "    return decoded_sentence[8:-6]\n",
    "\n",
    "for i in range(20):\n",
    "    print(\"-\")\n",
    "    print(src.upper()+\"  \",input_sentence[i])\n",
    "    print(tgt.upper()+\"->\",decode_sequence_tranf(input_sentence[i]))"
   ]
  },
  {
   "cell_type": "markdown",
   "metadata": {
    "colab_type": "text"
   },
   "source": [
    "<br></br>\n",
    "**You turn to play:** Enter a sentence.."
   ]
  },
  {
   "cell_type": "code",
   "execution_count": 17,
   "metadata": {
    "tags": []
   },
   "outputs": [
    {
     "name": "stdout",
     "output_type": "stream",
     "text": [
      "EN-> paris is rainy during summer but it is never warm in winter\n",
      "EN-> new jersey is sometimes quiet during autumn and it is snowy in april\n"
     ]
    }
   ],
   "source": [
    "if src=='fr':\n",
    "    your_sentence1 = \"paris est pluvieux pendant l'été, mais la france n'est jamais magnifique en hiver\" \n",
    "    your_sentence2 = \"new jersey est parfois calme pendant l' automne , et il est neigeux en avril .\" \n",
    "else:\n",
    "    your_sentence1 = \"paris is rainy during summer , and france is never wonderful in winter\"\n",
    "    your_sentence2 = \"new jersey is sometimes quiet during autumn , and it is snowy in april .\"\n",
    "\n",
    "print(tgt.upper()+\"->\",decode_sequence_tranf(your_sentence1))\n",
    "print(tgt.upper()+\"->\",decode_sequence_tranf(your_sentence2))"
   ]
  },
  {
   "cell_type": "code",
   "execution_count": null,
   "metadata": {},
   "outputs": [],
   "source": []
  }
 ],
 "metadata": {
  "colab": {
   "collapsed_sections": [],
   "name": "chapter11_part04_sequence-to-sequence-learning.i",
   "private_outputs": false,
   "provenance": [],
   "toc_visible": true
  },
  "kernelspec": {
   "display_name": "Python 3 (ipykernel)",
   "language": "python",
   "name": "python3"
  },
  "language_info": {
   "codemirror_mode": {
    "name": "ipython",
    "version": 3
   },
   "file_extension": ".py",
   "mimetype": "text/x-python",
   "name": "python",
   "nbconvert_exporter": "python",
   "pygments_lexer": "ipython3",
   "version": "3.9.7"
  }
 },
 "nbformat": 4,
 "nbformat_minor": 4
}
